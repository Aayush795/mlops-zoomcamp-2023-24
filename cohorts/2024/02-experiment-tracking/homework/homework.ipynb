{
 "cells": [
  {
   "cell_type": "code",
   "execution_count": 28,
   "id": "fbf5a787-0bd8-4906-9b77-a241b63d8962",
   "metadata": {},
   "outputs": [
    {
     "name": "stdout",
     "output_type": "stream",
     "text": [
      "mlflow, version 2.3.1\n"
     ]
    }
   ],
   "source": [
    "!mlflow --version"
   ]
  },
  {
   "cell_type": "code",
   "execution_count": 29,
   "id": "e9ed9da7-5ac4-460d-84b8-a672905b74c8",
   "metadata": {},
   "outputs": [],
   "source": [
    "!python preprocess_data.py --raw_data_path raw_data --dest_path output"
   ]
  },
  {
   "cell_type": "code",
   "execution_count": 30,
   "id": "9106fb4f-810c-45c8-b7a1-369eed4d85ba",
   "metadata": {},
   "outputs": [
    {
     "name": "stdout",
     "output_type": "stream",
     "text": [
      "2024/05/31 09:59:35 INFO mlflow.tracking.fluent: Autologging successfully enabled for sklearn.\n",
      "2024/05/31 09:59:43 WARNING mlflow.utils.autologging_utils: MLflow autologging encountered a warning: \"/Users/aayushgupta/miniconda3/envs/ml_zcamp_env/lib/python3.11/site-packages/_distutils_hack/__init__.py:33: UserWarning: Setuptools is replacing distutils.\"\n"
     ]
    }
   ],
   "source": [
    "!python train.py"
   ]
  },
  {
   "cell_type": "code",
   "execution_count": 34,
   "id": "bde39c43-b985-44f4-90c0-0a29773556ee",
   "metadata": {},
   "outputs": [
    {
     "name": "stdout",
     "output_type": "stream",
     "text": [
      "2024/05/31 10:00:50 INFO mlflow.tracking.fluent: Experiment with name 'random-forest-hyperopt_1' does not exist. Creating a new experiment.\n",
      "100%|██████████| 15/15 [00:29<00:00,  1.95s/trial, best loss: 5.335419588556921]\n"
     ]
    }
   ],
   "source": [
    "!python hpo.py"
   ]
  },
  {
   "cell_type": "code",
   "execution_count": 35,
   "id": "d58e9f81-7835-4539-8e62-5d95cfbdd7c8",
   "metadata": {},
   "outputs": [
    {
     "name": "stdout",
     "output_type": "stream",
     "text": [
      "2024/05/31 10:01:59 INFO mlflow.tracking.fluent: Experiment with name 'random-forest-best-models_1' does not exist. Creating a new experiment.\n",
      "2024/05/31 10:02:02 WARNING mlflow.utils.autologging_utils: MLflow autologging encountered a warning: \"/Users/aayushgupta/miniconda3/envs/ml_zcamp_env/lib/python3.11/site-packages/_distutils_hack/__init__.py:33: UserWarning: Setuptools is replacing distutils.\"\n",
      "Successfully registered model 'random-forest-best-model'.\n",
      "2024/05/31 10:02:19 INFO mlflow.tracking._model_registry.client: Waiting up to 300 seconds for model version to finish creation. Model name: random-forest-best-model, version 1\n",
      "Created version '1' of model 'random-forest-best-model'.\n"
     ]
    }
   ],
   "source": [
    "!python register_model.py"
   ]
  },
  {
   "cell_type": "code",
   "execution_count": null,
   "id": "13629aef-ee86-4c2a-b1a3-b3ebb671de8d",
   "metadata": {},
   "outputs": [],
   "source": []
  }
 ],
 "metadata": {
  "kernelspec": {
   "display_name": "Python 3 (ipykernel)",
   "language": "python",
   "name": "python3"
  },
  "language_info": {
   "codemirror_mode": {
    "name": "ipython",
    "version": 3
   },
   "file_extension": ".py",
   "mimetype": "text/x-python",
   "name": "python",
   "nbconvert_exporter": "python",
   "pygments_lexer": "ipython3",
   "version": "3.11.3"
  }
 },
 "nbformat": 4,
 "nbformat_minor": 5
}
